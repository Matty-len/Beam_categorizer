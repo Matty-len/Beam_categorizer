{
 "cells": [
  {
   "cell_type": "code",
   "execution_count": null,
   "metadata": {},
   "outputs": [],
   "source": []
  },
  {
   "cell_type": "code",
   "execution_count": 67,
   "metadata": {},
   "outputs": [],
   "source": [
    "import pandas as pd\n",
    "import matplotlib.pyplot as plt\n",
    "import ast\n",
    "from collections import OrderedDict\n",
    "class ComsolOutputSorter():\n",
    "    def __init__(self) -> None:\n",
    "        pass\n",
    "    \n",
    "    def process_data_file(self) -> None:\n",
    "        self.get_all_titles_and_title_indeces()\n",
    "        self.count_all_eigenvalues()\n",
    "        self.make_data_to_dict()\n",
    "        self.make_dataframe_based_on_eigenvalues()\n",
    "\n",
    "    def load_file(self, filename) -> None:\n",
    "        with open(filename) as file:\n",
    "            self.lines = file.readlines()\n",
    "\n",
    "    def set_attributes(self, attributes: list = []) -> None:\n",
    "        self.attributes = attributes\n",
    "\n",
    "    def get_all_titles_and_title_indeces(self) -> None:\n",
    "        titles = list()\n",
    "        title_indeces = list()\n",
    "        for index, line in enumerate(self.lines):\n",
    "            if line[0] == '%':\n",
    "                titles.append(line)\n",
    "                title_indeces.append(index)\n",
    "\n",
    "        self.titles = titles\n",
    "        self.titles_indeces = title_indeces\n",
    "\n",
    "    def count_all_eigenvalues(self):\n",
    "        count = 0\n",
    "        for line in self.lines:\n",
    "            if 'lambda' in line and self.attributes[0] in line:\n",
    "                count += 1\n",
    "        self.count = count\n",
    "        self.eigenvalues = range(1, count +1)\n",
    "\n",
    "    def make_data_to_dict(self): # Had to be ugly because of the ugly structure of comsol outputs!\n",
    "        dictionary = dict()\n",
    "        for internal_index, index in enumerate(self.titles_indeces): # index of the lines\n",
    "            if internal_index == len(self.titles_indeces) - 1:\n",
    "                break\n",
    "            this_title_index = self.titles_indeces[internal_index]\n",
    "            next_title_index = self.titles_indeces[internal_index+1]\n",
    "            dictionary[self.titles[internal_index]] = [float(line) for line in self.lines[this_title_index+1:next_title_index] if 'Data' in self.titles[internal_index]]\n",
    "            # NOTE PROBLEM WITH HOW DCTIONARIES make their thing\n",
    "            #dictionary[self.titles[internal_index]] = self.lines[this_title_index+1:next_title_index]\n",
    "\n",
    "            #print(dictionary[self.titles[internal_index]])\n",
    "\n",
    "        last_line = len(self.lines)\n",
    "        last_title = self.titles_indeces[-1] # the line number where last title is\n",
    "        dictionary[self.lines[last_title]] = [float(x) for x in self.lines[last_title+1:last_line]]\n",
    "        self.data_dict = dictionary\n",
    "       \n",
    "    def make_dataframe_based_on_eigenvalues(self) -> pd.DataFrame:\n",
    "        df_list = []\n",
    "        full_frame = pd.DataFrame()\n",
    "        # dc = dict()\n",
    "        # for title in self.data_dict.keys():\n",
    "        #     print(title)\n",
    "        #     print(self.data_dict[title])\n",
    "\n",
    "        #     if 'freq' in title:\n",
    "        #         dc[title] \n",
    "        #print(self.eigenvalues)\n",
    "        for eigenvalue in self.eigenvalues: # for all eigenvalues \n",
    "            #print(eigenvalue)\n",
    "            dc = OrderedDict()\n",
    "            for attribute in self.attributes:\n",
    "                for title in self.data_dict.keys(): # we search all titles\n",
    "                    #print(title.split())\n",
    "                    if attribute in title and f'lambda={eigenvalue})' in title.split():\n",
    "                            #print(title)\n",
    "                            # row is lambda=eigenvalue\n",
    "                            # column is attribute\n",
    "                            dc[attribute] = str(self.data_dict[title])\n",
    "            #print(dc)\n",
    "        #print(dc)                            \n",
    "            \n",
    "            df = pd.DataFrame(data=dc, index=[eigenvalue])\n",
    "            full_frame = pd.concat([full_frame, df])\n",
    "            df_list.append(df)\n",
    "        self.df_list = df_list\n",
    "        self.data = full_frame\n",
    "\n",
    "    def extract_feature(self, attribute: str, eigenvalue: int) -> list:\n",
    "        return ast.literal_eval(self.data[attribute][eigenvalue])\n",
    "\n",
    "\n",
    "class ModeClassifier():\n",
    "    def __init__(self) -> None:\n",
    "        pass\n",
    "\n",
    "    def plot_mode(self):\n",
    "        pass\n",
    "\n",
    "# for alle lambda\n",
    "#hvis \n",
    "\n",
    "# Jeg vil gerne have sådan at  ouputtet herfra er\n",
    "# freq1\n",
    "# numpy lambda, freq, xdata, ydata, mod\n",
    "\n",
    "# Now instead we set the thing up to make the cut lines, and then just ignore everything else.\n",
    "    "
   ]
  },
  {
   "cell_type": "code",
   "execution_count": 70,
   "metadata": {},
   "outputs": [
    {
     "data": {
      "text/plain": [
       "[<matplotlib.lines.Line2D at 0x242032f2970>]"
      ]
     },
     "execution_count": 70,
     "metadata": {},
     "output_type": "execute_result"
    },
    {
     "data": {
      "image/png": "[encoded data removed]",
      "text/plain": [
       "<Figure size 640x480 with 1 Axes>"
      ]
     },
     "metadata": {},
     "output_type": "display_data"
    }
   ],
   "source": [
    "test = ComsolOutputSorter()\n",
    "test.set_attributes(['freq', 'bottom-r_bottom' ,'solid.eZZ'])\n",
    "test.load_file(filename='test.txt')\n",
    "test.process_data_file()\n",
    "#test.extract_feature('freq', 1)\n",
    "\n",
    "\n",
    "eigenvalue = 1\n",
    "plt.plot(test.extract_feature('bottom-r_bottom', eigenvalue), test.extract_feature('solid.eZZ', eigenvalue), '-')\n",
    "#print(test.extract_feature('bottom-r_bottom', eigenvalue))\n",
    "#print(test.extract_feature('solid.eZZ', eigenvalue))\n",
    "#print(test.extract_feature('freq', eigenvalue)[0])\n",
    "\n",
    "# for pr in test.data_dict.keys():\n",
    "#     print(pr)\n",
    "#     print(test.data_dict[pr])\n",
    "\n"
   ]
  },
  {
   "cell_type": "code",
   "execution_count": 59,
   "metadata": {},
   "outputs": [
    {
     "data": {
      "text/html": [
       "<div>\n",
       "<style scoped>\n",
       "    .dataframe tbody tr th:only-of-type {\n",
       "        vertical-align: middle;\n",
       "    }\n",
       "\n",
       "    .dataframe tbody tr th {\n",
       "        vertical-align: top;\n",
       "    }\n",
       "\n",
       "    .dataframe thead th {\n",
       "        text-align: right;\n",
       "    }\n",
       "</style>\n",
       "<table border=\"1\" class=\"dataframe\">\n",
       "  <thead>\n",
       "    <tr style=\"text-align: right;\">\n",
       "      <th></th>\n",
       "      <th>freq</th>\n",
       "      <th>bottom-r_bottom</th>\n",
       "      <th>solid.eZZ</th>\n",
       "    </tr>\n",
       "  </thead>\n",
       "  <tbody>\n",
       "    <tr>\n",
       "      <th>2</th>\n",
       "      <td>['1704766.3344140055\\n', '1704766.3344140055\\n...</td>\n",
       "      <td>['-1.0000000000000001E-7\\n', '-8.4845179619345...</td>\n",
       "      <td>['-8.436550570626491E-9\\n', '-7.16785383124411...</td>\n",
       "    </tr>\n",
       "  </tbody>\n",
       "</table>\n",
       "</div>"
      ],
      "text/plain": [
       "                                                freq  \\\n",
       "2  ['1704766.3344140055\\n', '1704766.3344140055\\n...   \n",
       "\n",
       "                                     bottom-r_bottom  \\\n",
       "2  ['-1.0000000000000001E-7\\n', '-8.4845179619345...   \n",
       "\n",
       "                                           solid.eZZ  \n",
       "2  ['-8.436550570626491E-9\\n', '-7.16785383124411...  "
      ]
     },
     "execution_count": 59,
     "metadata": {},
     "output_type": "execute_result"
    }
   ],
   "source": [
    "test.df_list[1]"
   ]
  },
  {
   "cell_type": "code",
   "execution_count": 60,
   "metadata": {},
   "outputs": [
    {
     "data": {
      "text/html": [
       "<div>\n",
       "<style scoped>\n",
       "    .dataframe tbody tr th:only-of-type {\n",
       "        vertical-align: middle;\n",
       "    }\n",
       "\n",
       "    .dataframe tbody tr th {\n",
       "        vertical-align: top;\n",
       "    }\n",
       "\n",
       "    .dataframe thead th {\n",
       "        text-align: right;\n",
       "    }\n",
       "</style>\n",
       "<table border=\"1\" class=\"dataframe\">\n",
       "  <thead>\n",
       "    <tr style=\"text-align: right;\">\n",
       "      <th></th>\n",
       "      <th>freq</th>\n",
       "      <th>bottom-r_bottom</th>\n",
       "      <th>solid.eZZ</th>\n",
       "    </tr>\n",
       "  </thead>\n",
       "  <tbody>\n",
       "    <tr>\n",
       "      <th>2</th>\n",
       "      <td>['1704766.3344140055\\n', '1704766.3344140055\\n...</td>\n",
       "      <td>['-1.0000000000000001E-7\\n', '-8.4845179619345...</td>\n",
       "      <td>['-8.436550570626491E-9\\n', '-7.16785383124411...</td>\n",
       "    </tr>\n",
       "  </tbody>\n",
       "</table>\n",
       "</div>"
      ],
      "text/plain": [
       "                                                freq  \\\n",
       "2  ['1704766.3344140055\\n', '1704766.3344140055\\n...   \n",
       "\n",
       "                                     bottom-r_bottom  \\\n",
       "2  ['-1.0000000000000001E-7\\n', '-8.4845179619345...   \n",
       "\n",
       "                                           solid.eZZ  \n",
       "2  ['-8.436550570626491E-9\\n', '-7.16785383124411...  "
      ]
     },
     "execution_count": 60,
     "metadata": {},
     "output_type": "execute_result"
    }
   ],
   "source": [
    "test.df_list[1]"
   ]
  },
  {
   "cell_type": "code",
   "execution_count": null,
   "metadata": {},
   "outputs": [],
   "source": []
  }
 ],
 "metadata": {
  "kernelspec": {
   "display_name": "venv",
   "language": "python",
   "name": "python3"
  },
  "language_info": {
   "codemirror_mode": {
    "name": "ipython",
    "version": 3
   },
   "file_extension": ".py",
   "mimetype": "text/x-python",
   "name": "python",
   "nbconvert_exporter": "python",
   "pygments_lexer": "ipython3",
   "version": "3.8.10"
  },
  "orig_nbformat": 4
 },
 "nbformat": 4,
 "nbformat_minor": 2
}
